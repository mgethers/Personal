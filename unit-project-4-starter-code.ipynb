{
 "cells": [
  {
   "cell_type": "markdown",
   "metadata": {},
   "source": [
    "# SF-DAT-21 | Unit Project 4\n",
    "\n",
    "In this project, you will summarize and present your analysis from Unit Projects 1-3."
   ]
  },
  {
   "cell_type": "markdown",
   "metadata": {},
   "source": [
    "### Question 1. Introduction: Write a problem Statement/Specific Aim for this project."
   ]
  },
  {
   "cell_type": "markdown",
   "metadata": {},
   "source": [
    "Answer: Predict whether a prospective student will be admitted to graduate school on the basis of their GPA, GRE score, and the prestige of their undergraduate institution.  Furthermore, we'd like to understand the factors that contribute to whether or not someone is admitted to graduate school."
   ]
  },
  {
   "cell_type": "markdown",
   "metadata": {},
   "source": [
    "### Question 2. Dataset: Write up a description of your data and any cleaning that was completed."
   ]
  },
  {
   "cell_type": "markdown",
   "metadata": {},
   "source": [
    "Description:\n",
    "\n",
    "Variable | Description | Type of Variable\n",
    "---|---|---\n",
    "admit | 0 = Not admitted, 1 = Admitted | Binary\n",
    "gre | Thing in unit X | Discrete\n",
    "gpa | GPA in points (0.00-4.00) | Continuous\n",
    "prestige | University prestige ranking (1-4) | Ordinal Categorical\n",
    "\n",
    "Data cleaning:\n",
    " - Drop all data points with missing data"
   ]
  },
  {
   "cell_type": "markdown",
   "metadata": {
    "collapsed": true
   },
   "source": [
    "### Question 3. Demo: Provide a table that explains the data by admission status."
   ]
  },
  {
   "cell_type": "markdown",
   "metadata": {},
   "source": [
    "Mean (STD) or counts by admission status for each variable\n",
    "\n",
    "| Not Admitted | Admitted\n",
    "---| ---|---\n",
    "GPA | 3.35 (0.38) | 3.49 (0.37)\n",
    "GRE |573.6 (116.1) | 618.6 (109.3)\n",
    "Prestige 1 | 45.9% | 54.1%\n",
    "Prestige 2 | 64.1% | 35.9%\n",
    "Prestige 3 | 76.9% | 23.1%\n",
    "Prestige 4 | 82.1% | 17.9%"
   ]
  },
  {
   "cell_type": "markdown",
   "metadata": {},
   "source": [
    "### Question 4. Methods: Write up the methods used in your analysis."
   ]
  },
  {
   "cell_type": "markdown",
   "metadata": {},
   "source": [
    "Answer:\n",
    "\n",
    "Exploratory analysis: Examine mean, std, and quantiles of data. Plot variables on boxplots.  Look at correlation table of variables, and plot variables against each other.  Look at histograms of variables.  Examine qqplots to determine normality of the variables, and if any transformations are required.\n",
    "\n",
    "Analysis: Create a linear model using logistic regression.  Examine output.  Calculate odds ratios of covariates to understand their effect on the outcome. "
   ]
  },
  {
   "cell_type": "markdown",
   "metadata": {},
   "source": [
    "### Question 5. Results: Write up your results."
   ]
  },
  {
   "cell_type": "markdown",
   "metadata": {},
   "source": [
    "Answer: All variables were significant predictors of whether the student was admitted to graduate school.  Odds ratios were as follows:\n",
    " - GRE: 1.0004\n",
    " - GPA: 1.1628\n",
    " - Prestige_2: 0.8491\n",
    " - Prestige_3: 0.7475\n",
    " - Prestige_4: 0.7233\n",
    " \n",
    "Increased GRE, GPA, and prestige all contributed positively to a student getting admitted into graduate school."
   ]
  },
  {
   "cell_type": "markdown",
   "metadata": {},
   "source": [
    "### Question 6. Visuals: Provide a table or visualization of these results."
   ]
  },
  {
   "cell_type": "markdown",
   "metadata": {},
   "source": [
    "| OR | 2.5% | 97.5%\n",
    "---| ---|---\n",
    "GRE | 1.000422 | 1.000006 | 1.000837\n",
    "GPA | 1.162792 | 1.024866 | 1.319280\n",
    "Prestige 2 | 0.849131 | 0.742965 | 0.970467\n",
    "Prestige 3 | 0.747545 | 0.651050 | 0.858342\n",
    "Prestige 4 | 0.723254 | 0.618748 | 0.845411"
   ]
  },
  {
   "cell_type": "markdown",
   "metadata": {},
   "source": [
    " "
   ]
  },
  {
   "cell_type": "markdown",
   "metadata": {},
   "source": [
    "### Question 7. Discussion: Write up your discussion and future steps."
   ]
  },
  {
   "cell_type": "markdown",
   "metadata": {},
   "source": [
    "Answer:\n",
    "\n",
    "These three variables (GPA, GRE, and Prestige) appear to have significant predictive power as to whether a student will be admitted to graduate school.  We could continue this analysis by trying to determine exactly how accurately these features can predict grad school admission using cross validation on the same model, as well as other models s"
   ]
  }
 ],
 "metadata": {
  "kernelspec": {
   "display_name": "Python 2",
   "language": "python",
   "name": "python2"
  },
  "language_info": {
   "codemirror_mode": {
    "name": "ipython",
    "version": 2
   },
   "file_extension": ".py",
   "mimetype": "text/x-python",
   "name": "python",
   "nbconvert_exporter": "python",
   "pygments_lexer": "ipython2",
   "version": "2.7.11"
  }
 },
 "nbformat": 4,
 "nbformat_minor": 0
}
